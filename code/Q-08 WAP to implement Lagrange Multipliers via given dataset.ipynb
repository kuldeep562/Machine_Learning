{
 "cells": [
  {
   "cell_type": "markdown",
   "id": "630971c1-0c01-4386-a32a-ebccb0a1cd63",
   "metadata": {},
   "source": [
    "# Q-8 WAP to implement Lagrange Multipliers via given dataset."
   ]
  },
  {
   "cell_type": "code",
   "execution_count": 1,
   "id": "a8637493",
   "metadata": {},
   "outputs": [],
   "source": [
    "import numpy as np\n",
    "from sympy import *"
   ]
  },
  {
   "cell_type": "code",
   "execution_count": 2,
   "id": "d870c4a3",
   "metadata": {},
   "outputs": [],
   "source": [
    "def df(fn,x): \n",
    "    der=Derivative(fn, x)\n",
    "    return der.doit()\n",
    "\n",
    "def langrange_maker(fn,gn):\n",
    "    return fn + lambdaa*(gn)\n",
    "\n",
    "x,y,z,lambdaa= symbols('x y z lambdaa')\n",
    "\n",
    "\n",
    "fn=x*y*z\n",
    "gn=x+y+z-24\n",
    "\n",
    "L=langrange_maker(fn,gn)"
   ]
  },
  {
   "cell_type": "code",
   "execution_count": 3,
   "id": "239fc6ff",
   "metadata": {},
   "outputs": [
    {
     "name": "stdout",
     "output_type": "stream",
     "text": [
      "lambdaa*(x + y + z - 24) + x*y*z\n"
     ]
    }
   ],
   "source": [
    "print(L)"
   ]
  },
  {
   "cell_type": "code",
   "execution_count": 4,
   "id": "ac75a5d3",
   "metadata": {},
   "outputs": [],
   "source": [
    "df_x=df(L,x)\n",
    "df_y=df(L,y)\n",
    "df_z=df(L,z)\n",
    "df_lam=df(L,lambdaa)"
   ]
  },
  {
   "cell_type": "code",
   "execution_count": 5,
   "id": "e70028b6",
   "metadata": {},
   "outputs": [
    {
     "name": "stdout",
     "output_type": "stream",
     "text": [
      "x + y + z - 24\n"
     ]
    }
   ],
   "source": [
    "print(df_lam)"
   ]
  },
  {
   "cell_type": "code",
   "execution_count": 6,
   "id": "80bf3b27",
   "metadata": {},
   "outputs": [
    {
     "name": "stdout",
     "output_type": "stream",
     "text": [
      "lambdaa + y*z \n",
      " lambdaa + x*z \n",
      " lambdaa + x*y\n"
     ]
    }
   ],
   "source": [
    "print(df_x,\"\\n\",df_y,\"\\n\",df_z)"
   ]
  },
  {
   "cell_type": "code",
   "execution_count": 7,
   "id": "172e5aec",
   "metadata": {},
   "outputs": [
    {
     "data": {
      "text/plain": [
       "[-y*z]"
      ]
     },
     "execution_count": 7,
     "metadata": {},
     "output_type": "execute_result"
    }
   ],
   "source": [
    "sol_df_x=solve(df_x, lambdaa)\n",
    "sol_df_x"
   ]
  },
  {
   "cell_type": "code",
   "execution_count": 8,
   "id": "98c93baf",
   "metadata": {},
   "outputs": [
    {
     "data": {
      "text/plain": [
       "[-x*z]"
      ]
     },
     "execution_count": 8,
     "metadata": {},
     "output_type": "execute_result"
    }
   ],
   "source": [
    "sol_df_y=solve(df_y, lambdaa)\n",
    "sol_df_y"
   ]
  },
  {
   "cell_type": "code",
   "execution_count": 9,
   "id": "bb856082",
   "metadata": {},
   "outputs": [
    {
     "data": {
      "text/plain": [
       "[-x*y]"
      ]
     },
     "execution_count": 9,
     "metadata": {},
     "output_type": "execute_result"
    }
   ],
   "source": [
    "sol_df_z=solve(df_z, lambdaa)\n",
    "sol_df_z"
   ]
  },
  {
   "cell_type": "code",
   "execution_count": 10,
   "id": "92472ce1",
   "metadata": {},
   "outputs": [
    {
     "data": {
      "text/plain": [
       "[24]"
      ]
     },
     "execution_count": 10,
     "metadata": {},
     "output_type": "execute_result"
    }
   ],
   "source": [
    "sol_df_lam=solve(df_lam, (x+y+z))\n",
    "sol_df_lam"
   ]
  },
  {
   "cell_type": "code",
   "execution_count": 11,
   "id": "a13f1141",
   "metadata": {},
   "outputs": [
    {
     "data": {
      "text/latex": [
       "$\\displaystyle - x y = - y z$"
      ],
      "text/plain": [
       "Eq(-x*y, -y*z)"
      ]
     },
     "execution_count": 11,
     "metadata": {},
     "output_type": "execute_result"
    }
   ],
   "source": [
    "Eq((-x)*y,(-y)*z)"
   ]
  },
  {
   "cell_type": "code",
   "execution_count": 12,
   "id": "305789ac",
   "metadata": {},
   "outputs": [
    {
     "data": {
      "text/latex": [
       "$\\displaystyle - y z = - x z$"
      ],
      "text/plain": [
       "Eq(-y*z, -x*z)"
      ]
     },
     "execution_count": 12,
     "metadata": {},
     "output_type": "execute_result"
    }
   ],
   "source": [
    "Eq((-y)*z,(-z)*x)"
   ]
  },
  {
   "cell_type": "code",
   "execution_count": 13,
   "id": "52b6121e",
   "metadata": {},
   "outputs": [],
   "source": [
    "df_la=x+y+z-24"
   ]
  },
  {
   "cell_type": "code",
   "execution_count": 14,
   "id": "59814c36",
   "metadata": {},
   "outputs": [],
   "source": [
    "df1=df_la.subs({x: lambdaa, y: lambdaa, z: lambdaa})"
   ]
  },
  {
   "cell_type": "code",
   "execution_count": 15,
   "id": "8bfd3970",
   "metadata": {},
   "outputs": [
    {
     "name": "stdout",
     "output_type": "stream",
     "text": [
      "Value of lambdaa :  [8]\n"
     ]
    }
   ],
   "source": [
    "sol_df_lam1=solve(df1,lambdaa)\n",
    "print(\"Value of lambdaa : \",sol_df_lam1)"
   ]
  },
  {
   "cell_type": "code",
   "execution_count": 16,
   "id": "a4dd4807",
   "metadata": {},
   "outputs": [],
   "source": [
    "fn_new=fn.subs({x: 8, y: 8, z: 8})"
   ]
  },
  {
   "cell_type": "code",
   "execution_count": 17,
   "id": "dcc3566f",
   "metadata": {},
   "outputs": [
    {
     "name": "stdout",
     "output_type": "stream",
     "text": [
      "MINIMISED VALUE OF FUNCTION :  512\n"
     ]
    }
   ],
   "source": [
    "print(\"MINIMISED VALUE OF FUNCTION : \",fn_new)"
   ]
  }
 ],
 "metadata": {
  "kernelspec": {
   "display_name": "Python 3 (ipykernel)",
   "language": "python",
   "name": "python3"
  },
  "language_info": {
   "codemirror_mode": {
    "name": "ipython",
    "version": 3
   },
   "file_extension": ".py",
   "mimetype": "text/x-python",
   "name": "python",
   "nbconvert_exporter": "python",
   "pygments_lexer": "ipython3",
   "version": "3.11.4"
  }
 },
 "nbformat": 4,
 "nbformat_minor": 5
}
