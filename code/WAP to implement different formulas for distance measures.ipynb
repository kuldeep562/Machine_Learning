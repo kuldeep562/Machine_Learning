{
 "cells": [
  {
   "cell_type": "markdown",
   "id": "a40e4270-7dd4-4ed9-8dad-4d9e9718ce89",
   "metadata": {},
   "source": [
    "# WAP to implement different formulas for distance measures."
   ]
  },
  {
   "cell_type": "code",
   "execution_count": 1,
   "id": "42ff3f8d",
   "metadata": {},
   "outputs": [],
   "source": [
    "import numpy as np\n",
    "from scipy.spatial.distance import pdist, cosine"
   ]
  },
  {
   "cell_type": "code",
   "execution_count": 2,
   "id": "36becf8c",
   "metadata": {},
   "outputs": [],
   "source": [
    "def euclidean_distance(x, y):\n",
    "    return np.sqrt(np.sum((x - y)**2))"
   ]
  },
  {
   "cell_type": "code",
   "execution_count": 3,
   "id": "b1797d0e",
   "metadata": {},
   "outputs": [],
   "source": [
    "def cosine_similarity(x, y):\n",
    "    return np.dot(x, y) / (np.linalg.norm(x) * np.linalg.norm(y))"
   ]
  },
  {
   "cell_type": "code",
   "execution_count": 4,
   "id": "338c815c",
   "metadata": {},
   "outputs": [],
   "source": [
    "def hamming_distance(x, y):\n",
    "    return np.sum(np.abs(x - y))"
   ]
  },
  {
   "cell_type": "code",
   "execution_count": 5,
   "id": "1baf7115",
   "metadata": {},
   "outputs": [],
   "source": [
    "def manhattan_distance(x, y):\n",
    "    return np.sum(np.abs(x - y))"
   ]
  },
  {
   "cell_type": "code",
   "execution_count": 6,
   "id": "1af5f138",
   "metadata": {},
   "outputs": [],
   "source": [
    "def chebyshev_distance(x, y):\n",
    "    return np.max(np.abs(x - y))"
   ]
  },
  {
   "cell_type": "code",
   "execution_count": 7,
   "id": "b05001d3",
   "metadata": {},
   "outputs": [],
   "source": [
    "def minkowski_distance(x, y, p=3):\n",
    "    return np.power(np.sum(np.power(np.abs(x - y), p)), 1/p)"
   ]
  },
  {
   "cell_type": "code",
   "execution_count": 8,
   "id": "f73035c0",
   "metadata": {},
   "outputs": [],
   "source": [
    "def calculate_distances(X, metric='euclidean'):\n",
    "    if metric == 'euclidean':\n",
    "        if X.ndim == 1:\n",
    "            return np.array([euclidean_distance(X, x) for x in X])\n",
    "        else:\n",
    "            return pdist(X, metric=metric)\n",
    "    elif metric == 'cosine':\n",
    "        if X.ndim == 1:\n",
    "            return np.array([cosine_similarity(X, x) for x in X])\n",
    "        else:\n",
    "            return pdist(X, metric='cosine')\n",
    "    elif metric == 'hamming':\n",
    "        return hamming_distance(X[:, 0], X[:, 1])\n",
    "    elif metric == 'manhattan':\n",
    "        return manhattan_distance(X[:, 0], X[:, 1])\n",
    "    elif metric == 'chebyshev':\n",
    "        return chebyshev_distance(X[:, 0], X[:, 1])\n",
    "    elif metric == 'minkowski':\n",
    "        return minkowski_distance(X[:, 0], X[:, 1])\n",
    "    else:\n",
    "        raise ValueError(\"Invalid distance metric\")"
   ]
  },
  {
   "cell_type": "code",
   "execution_count": 9,
   "id": "f7a9b8ca",
   "metadata": {},
   "outputs": [],
   "source": [
    "X = np.array([[5,6],[7,8],[1,2]])"
   ]
  },
  {
   "cell_type": "code",
   "execution_count": 10,
   "id": "5ac6652c",
   "metadata": {},
   "outputs": [
    {
     "name": "stdout",
     "output_type": "stream",
     "text": [
      "Euclidean distance: [2.82842712 5.65685425 8.48528137]\n",
      "Cosine similarity: [0.00029019 0.02658283 0.03238273]\n",
      "Hamming distance: 3\n",
      "Manhattan distance: 3\n",
      "Chebyshev distance: 1\n",
      "Minkowski distance (p=3): 1.4422495703074083\n"
     ]
    }
   ],
   "source": [
    "print(\"Euclidean distance:\", calculate_distances(X, 'euclidean'))\n",
    "print(\"Cosine similarity:\", calculate_distances(X, 'cosine'))\n",
    "print(\"Hamming distance:\", calculate_distances(X, 'hamming'))\n",
    "print(\"Manhattan distance:\", calculate_distances(X, 'manhattan'))\n",
    "print(\"Chebyshev distance:\", calculate_distances(X, 'chebyshev'))\n",
    "print(\"Minkowski distance (p=3):\", calculate_distances(X, 'minkowski'))"
   ]
  }
 ],
 "metadata": {
  "kernelspec": {
   "display_name": "Python 3 (ipykernel)",
   "language": "python",
   "name": "python3"
  },
  "language_info": {
   "codemirror_mode": {
    "name": "ipython",
    "version": 3
   },
   "file_extension": ".py",
   "mimetype": "text/x-python",
   "name": "python",
   "nbconvert_exporter": "python",
   "pygments_lexer": "ipython3",
   "version": "3.11.4"
  }
 },
 "nbformat": 4,
 "nbformat_minor": 5
}
