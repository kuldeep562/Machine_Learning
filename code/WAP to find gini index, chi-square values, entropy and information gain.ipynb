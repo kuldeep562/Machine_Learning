{
 "cells": [
  {
   "cell_type": "markdown",
   "id": "b8dd5a69-d517-44e2-99b8-e8578cf7bf1e",
   "metadata": {},
   "source": [
    "# WAP to find gini index, chi-square values, entropy and information gain.\n"
   ]
  },
  {
   "cell_type": "code",
   "execution_count": 1,
   "id": "f071f0ce",
   "metadata": {},
   "outputs": [],
   "source": [
    "import numpy as np\n",
    "from sklearn import datasets"
   ]
  },
  {
   "cell_type": "code",
   "execution_count": 2,
   "id": "335ac659",
   "metadata": {},
   "outputs": [],
   "source": [
    "digits = datasets.load_digits()\n",
    "K = digits.data\n",
    "M = digits.target"
   ]
  },
  {
   "cell_type": "code",
   "execution_count": 3,
   "id": "b28f9ffa",
   "metadata": {},
   "outputs": [],
   "source": [
    "def gini_index(M):\n",
    "    n_samples = len(M)\n",
    "    classes = np.unique(M)\n",
    "    gini = 1.0\n",
    "    for class_ in classes:\n",
    "        p = np.sum(M == class_) / n_samples\n",
    "        gini -= p**2\n",
    "    return gini"
   ]
  },
  {
   "cell_type": "code",
   "execution_count": 4,
   "id": "9a87035a",
   "metadata": {},
   "outputs": [
    {
     "name": "stdout",
     "output_type": "stream",
     "text": [
      "Gini index: 0.8999789112442085\n"
     ]
    }
   ],
   "source": [
    "print(\"Gini index:\", gini_index(M))"
   ]
  },
  {
   "cell_type": "code",
   "execution_count": 5,
   "id": "f5169beb",
   "metadata": {},
   "outputs": [],
   "source": [
    "from scipy.stats import chi2_contingency"
   ]
  },
  {
   "cell_type": "code",
   "execution_count": 6,
   "id": "98c06ece",
   "metadata": {},
   "outputs": [],
   "source": [
    "def chi_square(K, M):\n",
    "   \n",
    "    contingency_table = np.zeros((np.max(M) + 1, K.shape[1]))\n",
    "    for i in range(K.shape[0]):\n",
    "        contingency_table[M[i], :] += K[i, :]\n",
    "    \n",
    "    eps = 1e-8\n",
    "    contingency_table += eps\n",
    "  \n",
    "    _, p_value, _, _ = chi2_contingency(contingency_table)\n",
    "    return p_value"
   ]
  },
  {
   "cell_type": "code",
   "execution_count": 7,
   "id": "5607e67d",
   "metadata": {},
   "outputs": [
    {
     "name": "stdout",
     "output_type": "stream",
     "text": [
      "Chi-square: 0.0\n"
     ]
    }
   ],
   "source": [
    "print(\"Chi-square:\", chi_square(K, M))"
   ]
  },
  {
   "cell_type": "code",
   "execution_count": 8,
   "id": "a5434467",
   "metadata": {},
   "outputs": [],
   "source": [
    "def entropy(M):\n",
    "    n_samples, = M.shape\n",
    "    classes = np.unique(M)\n",
    "    entropy = 0.0\n",
    "    for class_ in classes:\n",
    "        p = np.sum(M == class_) / n_samples\n",
    "        entropy -= p * np.log2(p)\n",
    "    return entropy"
   ]
  },
  {
   "cell_type": "code",
   "execution_count": 9,
   "id": "cd5cf1b0",
   "metadata": {},
   "outputs": [
    {
     "name": "stdout",
     "output_type": "stream",
     "text": [
      "Entropy: 3.3217753538402386\n"
     ]
    }
   ],
   "source": [
    "print(\"Entropy:\", entropy(M))"
   ]
  },
  {
   "cell_type": "code",
   "execution_count": null,
   "id": "327e145f-a597-4dfa-b2f2-250278125b88",
   "metadata": {},
   "outputs": [],
   "source": []
  }
 ],
 "metadata": {
  "kernelspec": {
   "display_name": "Python 3 (ipykernel)",
   "language": "python",
   "name": "python3"
  },
  "language_info": {
   "codemirror_mode": {
    "name": "ipython",
    "version": 3
   },
   "file_extension": ".py",
   "mimetype": "text/x-python",
   "name": "python",
   "nbconvert_exporter": "python",
   "pygments_lexer": "ipython3",
   "version": "3.11.4"
  }
 },
 "nbformat": 4,
 "nbformat_minor": 5
}
